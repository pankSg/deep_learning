{
  "nbformat": 4,
  "nbformat_minor": 0,
  "metadata": {
    "colab": {
      "provenance": [],
      "authorship_tag": "ABX9TyP0cAj8XNUZLrANxtoBBrtP",
      "include_colab_link": true
    },
    "kernelspec": {
      "name": "python3",
      "display_name": "Python 3"
    },
    "language_info": {
      "name": "python"
    }
  },
  "cells": [
    {
      "cell_type": "markdown",
      "metadata": {
        "id": "view-in-github",
        "colab_type": "text"
      },
      "source": [
        "<a href=\"https://colab.research.google.com/github/pankSg/deep_learning/blob/main/NN_001.ipynb\" target=\"_parent\"><img src=\"https://colab.research.google.com/assets/colab-badge.svg\" alt=\"Open In Colab\"/></a>"
      ]
    },
    {
      "cell_type": "markdown",
      "source": [
        "This example trains a neural network model to classify images of hand written digits from 0 to 9. It is a multiclass classification problem with 10 classes implemented using Deep Learning in Tensorflow and Keras"
      ],
      "metadata": {
        "id": "Sx7o5RbHNa9B"
      }
    },
    {
      "cell_type": "code",
      "source": [
        "# import the requried libraries\n",
        "import tensorflow as tf\n",
        "from matplotlib import pyplot as plt\n",
        "import numpy as np"
      ],
      "metadata": {
        "id": "3yP8YrwwKeCF"
      },
      "execution_count": null,
      "outputs": []
    },
    {
      "cell_type": "code",
      "source": [
        "# Load the MNIST(Modified National Institute of Standards and Technology) data\n",
        "mnist = tf.keras.datasets.mnist\n",
        "mnistData = mnist.load_data()"
      ],
      "metadata": {
        "id": "c9ecr6LnOLZw"
      },
      "execution_count": null,
      "outputs": []
    },
    {
      "cell_type": "code",
      "source": [
        "# Split the data into traning and test set\n",
        "(X_train, y_train), (X_test, y_test) = mnistData"
      ],
      "metadata": {
        "id": "tU1WIVdXOiye"
      },
      "execution_count": null,
      "outputs": []
    },
    {
      "cell_type": "code",
      "source": [
        "# Visualize one training data\n",
        "# The data must be preprocessed before traning the network.\n",
        "plt.figure()\n",
        "plt.imshow(X_train[0])\n",
        "plt.colorbar()\n",
        "plt.show()"
      ],
      "metadata": {
        "colab": {
          "base_uri": "https://localhost:8080/",
          "height": 430
        },
        "id": "t15YAWLGO9y0",
        "outputId": "f8ff5cf7-fda9-4e38-c518-d35050ef2df2"
      },
      "execution_count": null,
      "outputs": [
        {
          "output_type": "display_data",
          "data": {
            "text/plain": [
              "<Figure size 640x480 with 2 Axes>"
            ],
            "image/png": "[encoded data removed]"
          },
          "metadata": {}
        }
      ]
    },
    {
      "cell_type": "code",
      "source": [
        "# Preprocess the data\n",
        "# The images are 28x28 Numpy arrays, with pixel values ranging from 0 to 255.\n",
        "# Scales these values to a range of 0 to 1 before feeding them to the nerual network model.\n",
        "X_train, X_test = X_train / 255.0, X_test /255.0"
      ],
      "metadata": {
        "id": "5Mln_Vv2QhHg"
      },
      "execution_count": null,
      "outputs": []
    },
    {
      "cell_type": "code",
      "source": [
        "# Define or Create the model\n",
        "# The Keras Sequential API is a simple way to create neural network model in keras.\n",
        "model = tf.keras.models.Sequential([\n",
        "    tf.keras.layers.Flatten(input_shape=(28,28)),\n",
        "    tf.keras.layers.Dense(512, activation='relu'),\n",
        "    tf.keras.layers.Dropout(0.2),\n",
        "    tf.keras.layers.Dense(10, activation='softmax')])"
      ],
      "metadata": {
        "id": "EVdgB0tJSCKM"
      },
      "execution_count": null,
      "outputs": []
    },
    {
      "cell_type": "code",
      "source": [
        "# Compile the model\n",
        "# SGD (Stochastic Gradient Descent) is a type of optimization algorithm used in neural networks\n",
        "# Sparse categorical cross-entropy is a loss function used in nerual networks for multiclass classification problems\n",
        "# using accuracy metrics as the measure of performance.\n",
        "model.compile(optimizer='sgd', loss='sparse_categorical_crossentropy', metrics=['accuracy'])"
      ],
      "metadata": {
        "id": "U9YbwNcCgeke"
      },
      "execution_count": null,
      "outputs": []
    },
    {
      "cell_type": "code",
      "source": [
        "# Train or fit the model\n",
        "# epoch refers to a single pass or iteration through the entire training dataset during the traning process\n",
        "# validation_split is an argument in Keras that specifies the fraction of the training data that should be used as a validation set\n",
        "model.fit(X_train, y_train, epochs=5, validation_split=0.2)"
      ],
      "metadata": {
        "colab": {
          "base_uri": "https://localhost:8080/"
        },
        "id": "5ENzwGA9i-hE",
        "outputId": "e83ebb0a-a33b-4dc4-fd28-aa6c431e8c7b"
      },
      "execution_count": null,
      "outputs": [
        {
          "output_type": "stream",
          "name": "stdout",
          "text": [
            "Epoch 1/5\n",
            "1500/1500 [==============================] - 10s 6ms/step - loss: 0.7019 - accuracy: 0.8175 - val_loss: 0.3661 - val_accuracy: 0.9034\n",
            "Epoch 2/5\n",
            "1500/1500 [==============================] - 8s 6ms/step - loss: 0.3703 - accuracy: 0.8962 - val_loss: 0.2970 - val_accuracy: 0.9184\n",
            "Epoch 3/5\n",
            "1500/1500 [==============================] - 9s 6ms/step - loss: 0.3143 - accuracy: 0.9112 - val_loss: 0.2634 - val_accuracy: 0.9263\n",
            "Epoch 4/5\n",
            "1500/1500 [==============================] - 10s 6ms/step - loss: 0.2784 - accuracy: 0.9217 - val_loss: 0.2372 - val_accuracy: 0.9359\n",
            "Epoch 5/5\n",
            "1500/1500 [==============================] - 9s 6ms/step - loss: 0.2533 - accuracy: 0.9281 - val_loss: 0.2190 - val_accuracy: 0.9408\n"
          ]
        },
        {
          "output_type": "execute_result",
          "data": {
            "text/plain": [
              "<keras.src.callbacks.History at 0x7caff4465990>"
            ]
          },
          "metadata": {},
          "execution_count": 12
        }
      ]
    },
    {
      "cell_type": "code",
      "source": [
        "# Evaluate the model\n",
        "# checking how the model performs on the test dataset\n",
        "test_loss, test_accuracy = model.evaluate(X_test, y_test)\n",
        "print('Test accurracy:', test_accuracy)"
      ],
      "metadata": {
        "colab": {
          "base_uri": "https://localhost:8080/"
        },
        "id": "ZiE_feqhkSGS",
        "outputId": "18cb2985-c4fa-4c3f-bd86-a93cc76598ee"
      },
      "execution_count": null,
      "outputs": [
        {
          "output_type": "stream",
          "name": "stdout",
          "text": [
            "313/313 [==============================] - 1s 3ms/step - loss: 0.2178 - accuracy: 0.9398\n",
            "Test accurracy: 0.9398000240325928\n"
          ]
        }
      ]
    },
    {
      "cell_type": "code",
      "source": [
        "# Pick and visualise a single test image from test data\n",
        "single_test_image = X_test[0]\n",
        "single_test_image = np.array(single_test_image, dtype='float')\n",
        "plt.imshow(single_test_image)\n",
        "plt.show()\n"
      ],
      "metadata": {
        "colab": {
          "base_uri": "https://localhost:8080/",
          "height": 430
        },
        "id": "NFxkGL1Ll1QI",
        "outputId": "be25ee43-bd30-43a8-f97d-cf955d49131b"
      },
      "execution_count": null,
      "outputs": [
        {
          "output_type": "display_data",
          "data": {
            "text/plain": [
              "<Figure size 640x480 with 1 Axes>"
            ],
            "image/png": "[encoded data removed]"
          },
          "metadata": {}
        }
      ]
    },
    {
      "cell_type": "code",
      "source": [
        "# Predict the test data using the model\n",
        "# np.expand_dims is a function in NumPy that allows you to add an extra dimension to an existing array.\n",
        "single_test_image = (np.expand_dims(single_test_image, 0))\n",
        "pred = model.predict(single_test_image)\n",
        "digit_value = np.argmax(pred[0])\n",
        "digit_value"
      ],
      "metadata": {
        "colab": {
          "base_uri": "https://localhost:8080/"
        },
        "id": "LCW2jFZYnUQU",
        "outputId": "35431b18-4906-4777-b636-cdbfd3462948"
      },
      "execution_count": null,
      "outputs": [
        {
          "output_type": "stream",
          "name": "stdout",
          "text": [
            "1/1 [==============================] - 0s 99ms/step\n"
          ]
        },
        {
          "output_type": "execute_result",
          "data": {
            "text/plain": [
              "7"
            ]
          },
          "metadata": {},
          "execution_count": 16
        }
      ]
    },
    {
      "cell_type": "code",
      "source": [
        "# save the model for latter use\n",
        "# model.save is a method in Keras that allows you to save the architecture, weights,\n",
        "# and optimizer state of a trained neural network model to disk\n",
        "model.save(\"model.h5\")"
      ],
      "metadata": {
        "colab": {
          "base_uri": "https://localhost:8080/"
        },
        "id": "1eMI7qStoR_f",
        "outputId": "b3ea954f-d8e8-4e78-bab3-4ccc121c0d9d"
      },
      "execution_count": null,
      "outputs": [
        {
          "output_type": "stream",
          "name": "stderr",
          "text": [
            "/usr/local/lib/python3.10/dist-packages/keras/src/engine/training.py:3103: UserWarning: You are saving your model as an HDF5 file via `model.save()`. This file format is considered legacy. We recommend using instead the native Keras format, e.g. `model.save('my_model.keras')`.\n",
            "  saving_api.save_model(\n"
          ]
        }
      ]
    },
    {
      "cell_type": "code",
      "source": [],
      "metadata": {
        "id": "9YNm2CpFpWTF"
      },
      "execution_count": null,
      "outputs": []
    }
  ]
}